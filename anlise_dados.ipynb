{
 "cells": [
  {
   "cell_type": "markdown",
   "metadata": {},
   "source": [
    " # Analise de dados sobre o consumo de alcool  \n",
    "\n",
    "- O consumo excessivo de álcool é um problema grave de saúde pública. Imagine que temos o objetivo de desenvolver relatórios sobre o consumo de álcool no mundo.\n",
    "\n",
    "- De tal forma, que foram coletados dados de diferentes países, indicando o consumo de cerveja (beer), licor (spirit) e vinho (wine), e o consumo de litros de álcool por pessoa do país no ano de 2010. Seu trabalho, então, é responder a algumas perguntas sobre os dados que irão ajudar a compor o relatório. \n",
    "\n",
    "    1. Qual a média e desvio padrão do consumo de cerveja, licor, vinho e total de álcool?\n",
    "\n",
    "    2. Qual o consumo de licor na França?\n",
    "\n",
    "    3. Quais os 5 países nos quais se consome mais vinho?\n",
    "\n",
    "    4. Quais os países nos quais o consumo de cerveja está acima da média?\n",
    "\n",
    "    5. Quais países nos quais o consumo total de álcool está acima do Brasil, em ordem do menor para o maior?\n",
    "\n",
    "- O conjunto de dados encontrasse na página dataset    "
   ]
  },
  {
   "cell_type": "code",
   "execution_count": null,
   "metadata": {},
   "outputs": [],
   "source": []
  },
  {
   "cell_type": "code",
   "execution_count": null,
   "metadata": {},
   "outputs": [],
   "source": []
  },
  {
   "cell_type": "code",
   "execution_count": null,
   "metadata": {},
   "outputs": [],
   "source": []
  }
 ],
 "metadata": {
  "kernelspec": {
   "display_name": "Python 3.9.12 ('base')",
   "language": "python",
   "name": "python3"
  },
  "language_info": {
   "name": "python",
   "version": "3.9.12"
  },
  "orig_nbformat": 4,
  "vscode": {
   "interpreter": {
    "hash": "0572d23902cb71527ca39b5468791ba2108028c22d68d1957bdf14c75c68bccb"
   }
  }
 },
 "nbformat": 4,
 "nbformat_minor": 2
}
